{
  "nbformat": 4,
  "nbformat_minor": 0,
  "metadata": {
    "colab": {
      "provenance": [],
      "authorship_tag": "ABX9TyOBjyUwM8fIJAHF1jlqXNGK",
      "include_colab_link": true
    },
    "kernelspec": {
      "name": "python3",
      "display_name": "Python 3"
    },
    "language_info": {
      "name": "python"
    }
  },
  "cells": [
    {
      "cell_type": "markdown",
      "metadata": {
        "id": "view-in-github",
        "colab_type": "text"
      },
      "source": [
        "<a href=\"https://colab.research.google.com/github/kospi-2025/EVT/blob/main/EVT22_LMO.ipynb\" target=\"_parent\"><img src=\"https://colab.research.google.com/assets/colab-badge.svg\" alt=\"Open In Colab\"/></a>"
      ]
    },
    {
      "cell_type": "markdown",
      "source": [
        "# LogDD"
      ],
      "metadata": {
        "id": "oDsOlJCE9H9B"
      }
    },
    {
      "cell_type": "code",
      "source": [
        "!pip install -q lmoments3\n",
        "!pip install -q pyextremes\n",
        "\n",
        "import numpy as np\n",
        "import pandas as pd\n",
        "import matplotlib.pyplot as plt\n",
        "import scipy.stats as stats\n",
        "\n",
        "import lmoments3 as lm\n",
        "\n",
        "from scipy.stats import genpareto\n",
        "from lmoments3 import distr\n",
        "from pyextremes import plot_mean_residual_life\n",
        "from pyextremes import plot_parameter_stability\n",
        "from pyextremes import get_extremes"
      ],
      "metadata": {
        "colab": {
          "base_uri": "https://localhost:8080/"
        },
        "id": "xAhMdQkTCWgD",
        "outputId": "75bbf13a-942f-4ad1-8900-94174418552a"
      },
      "execution_count": null,
      "outputs": [
        {
          "output_type": "stream",
          "name": "stdout",
          "text": [
            "\u001b[?25l     \u001b[90m━━━━━━━━━━━━━━━━━━━━━━━━━━━━━━━━━━━━━━━━\u001b[0m \u001b[32m0.0/46.5 kB\u001b[0m \u001b[31m?\u001b[0m eta \u001b[36m-:--:--\u001b[0m\r\u001b[2K     \u001b[90m━━━━━━━━━━━━━━━━━━━━━━━━━━━━━━━━━━━━━━━━\u001b[0m \u001b[32m46.5/46.5 kB\u001b[0m \u001b[31m2.5 MB/s\u001b[0m eta \u001b[36m0:00:00\u001b[0m\n",
            "\u001b[2K   \u001b[90m━━━━━━━━━━━━━━━━━━━━━━━━━━━━━━━━━━━━━━━━\u001b[0m \u001b[32m48.2/48.2 kB\u001b[0m \u001b[31m3.1 MB/s\u001b[0m eta \u001b[36m0:00:00\u001b[0m\n",
            "\u001b[2K   \u001b[90m━━━━━━━━━━━━━━━━━━━━━━━━━━━━━━━━━━━━━━━━\u001b[0m \u001b[32m57.6/57.6 kB\u001b[0m \u001b[31m3.4 MB/s\u001b[0m eta \u001b[36m0:00:00\u001b[0m\n",
            "\u001b[2K   \u001b[90m━━━━━━━━━━━━━━━━━━━━━━━━━━━━━━━━━━━━━━━━\u001b[0m \u001b[32m47.4/47.4 kB\u001b[0m \u001b[31m2.7 MB/s\u001b[0m eta \u001b[36m0:00:00\u001b[0m\n",
            "\u001b[?25h"
          ]
        }
      ]
    },
    {
      "cell_type": "code",
      "execution_count": null,
      "metadata": {
        "colab": {
          "base_uri": "https://localhost:8080/"
        },
        "id": "mFvkVne370Dq",
        "outputId": "a64772cd-5784-4337-a136-4ea039eb553b"
      },
      "outputs": [
        {
          "output_type": "stream",
          "name": "stdout",
          "text": [
            "✅ Loaded Communication_Services\n",
            "✅ Loaded Constructions\n",
            "✅ Loaded Consumer_Discretionary\n",
            "✅ Loaded Consumer_Staples\n",
            "✅ Loaded Energy_Chemicals\n",
            "✅ Loaded Financials\n",
            "✅ Loaded Health_Care\n",
            "✅ Loaded Heavy_Industries\n",
            "✅ Loaded Industrials\n",
            "✅ Loaded IT\n",
            "✅ Loaded Steels_Materials\n",
            "✅ Loaded Index\n"
          ]
        }
      ],
      "source": [
        "import pandas as pd\n",
        "import numpy as np\n",
        "\n",
        "# 1. GitHub에서 ticker_info.csv 불러오기\n",
        "ticker_info_url = \"https://raw.githubusercontent.com/kospi-2025/EVT/main/source_data/ticker_info.csv\"\n",
        "df = pd.read_csv(ticker_info_url)\n",
        "df['id'] = df['id'].astype(str).str.zfill(6)\n",
        "df['Yahoo_Ticker'] = df['id'] + \".KS\"\n",
        "\n",
        "# 2. ^KS200 수동 추가\n",
        "df_index = pd.DataFrame({\n",
        "    \"Yahoo_Ticker\": [\"^KS200\"],\n",
        "    \"name\": [\"KOSPI 200 Index\"],\n",
        "    \"sector\": [\"Index\"]\n",
        "})\n",
        "\n",
        "df_info = pd.concat([df, df_index], ignore_index=True)\n",
        "\n",
        "# 3. 매핑 딕셔너리 생성\n",
        "ticker_to_name = dict(zip(df_info[\"Yahoo_Ticker\"], df_info[\"name\"]))\n",
        "ticker_to_sector = dict(zip(df_info[\"Yahoo_Ticker\"], df_info[\"sector\"]))\n",
        "\n",
        "# 4. 섹터 목록 만들기 (고유값)\n",
        "sectors = df_info[\"sector\"].dropna().unique()\n",
        "\n",
        "# 5. 섹터별 파일 불러오기\n",
        "base_url = \"https://raw.githubusercontent.com/kospi-2025/EVT/main/source_data/\"\n",
        "sector_data = {}\n",
        "\n",
        "for sec in sectors:\n",
        "    file_name = sec + \".csv\"\n",
        "    url = f\"{base_url}{file_name}\"\n",
        "    try:\n",
        "        df_sector = pd.read_csv(url, header=[0, 1], index_col=0, parse_dates=True)\n",
        "        sector_data[sec] = df_sector\n",
        "        print(f\"✅ Loaded {sec}\")\n",
        "    except Exception as e:\n",
        "        print(f\"❌ Failed to load {sec}: {e}\")\n",
        "\n",
        "#==================================\n",
        "\n",
        "temp = pd.concat(sector_data.values(), axis=1).sort_index(axis=1)\n",
        "\n",
        "tickers_to_drop = [\"000660.KS\", \"032640.KS\"]\n",
        "\n",
        "data = temp.loc[:, ~temp.columns.get_level_values(1).isin(tickers_to_drop)]\n",
        "logDD = -np.log(data[\"Low\"]/data[\"Close\"].shift(1)).where(lambda x: x < 0)"
      ]
    },
    {
      "cell_type": "markdown",
      "source": [
        "# LMO"
      ],
      "metadata": {
        "id": "L4O27JojF60X"
      }
    },
    {
      "cell_type": "code",
      "source": [
        "import numpy as np\n",
        "import matplotlib.pyplot as plt\n",
        "from matplotlib.backends.backend_pdf import PdfPages\n",
        "import lmoments3 as lm\n",
        "from pyextremes import get_extremes\n",
        "\n",
        "# GPD 이론 곡선\n",
        "xi_vals = np.linspace(-0.5, 1.0, 500)\n",
        "tau3_theory = (1 - xi_vals) / (3 + xi_vals)\n",
        "tau4_theory = (1 - xi_vals) * (2 - xi_vals) / ((3 + xi_vals) * (4 + xi_vals))\n",
        "\n",
        "# 설정\n",
        "r_range = [1, 10]\n",
        "markers = ['o', 'x', '^', 'D', 'v', '*', 's', 'P']\n",
        "\n",
        "tickers = logDD.columns\n",
        "\n",
        "with PdfPages(\"hosking_diagrams_all.pdf\") as pdf:\n",
        "    for i in range(0, len(tickers), 6):\n",
        "        fig, axes = plt.subplots(2, 3, figsize=(15, 10))\n",
        "        axes = axes.flatten()\n",
        "\n",
        "        for j, ticker in enumerate(tickers[i:i+6]):\n",
        "            ax = axes[j]\n",
        "            series = logDD[ticker].dropna().sort_index()\n",
        "            u_range = np.linspace(series.quantile(0.51), series.quantile(0.99), 29)\n",
        "\n",
        "            # GPD 이론 곡선\n",
        "            ax.plot(tau3_theory, tau4_theory, 'k-', label='GPD Theory')\n",
        "\n",
        "            for idx, r in enumerate(r_range):\n",
        "                tau3_list = []\n",
        "                tau4_list = []\n",
        "\n",
        "                for u in u_range:\n",
        "                    excesses = get_extremes(series, method=\"POT\", threshold=u, r=f\"{r}d\")\n",
        "                    try:\n",
        "                        lmr = lm.lmom_ratios(excesses, nmom=4)\n",
        "                        tau3_list.append(lmr[2])\n",
        "                        tau4_list.append(lmr[3])\n",
        "                    except:\n",
        "                        continue\n",
        "\n",
        "                if tau3_list:\n",
        "                    ax.plot(tau3_list, tau4_list,\n",
        "                            marker=markers[idx % len(markers)],\n",
        "                            linestyle='-', label=f'r = {r}', alpha=0.8)\n",
        "                    ax.scatter(tau3_list[0], tau4_list[0],\n",
        "                               color='red', edgecolor='black', zorder=5)\n",
        "                    ax.annotate(\"s\", (tau3_list[0], tau4_list[0]),\n",
        "                                textcoords=\"offset points\", xytext=(5, 5),\n",
        "                                ha='left', fontsize=10)\n",
        "\n",
        "            title = ticker_to_name.get(ticker, ticker)\n",
        "            ax.set_title(f\"{title} ({ticker})\", fontsize=11)\n",
        "            ax.set_xlabel(r'$\\tau_3$')\n",
        "            ax.set_ylabel(r'$\\tau_4$')\n",
        "            ax.grid(True)\n",
        "            ax.legend(fontsize=8)\n",
        "\n",
        "        # 남은 subplot 제거\n",
        "        for k in range(j + 1, 6):\n",
        "            fig.delaxes(axes[k])\n",
        "\n",
        "        plt.tight_layout()\n",
        "        pdf.savefig(fig)\n",
        "        plt.close(fig)"
      ],
      "metadata": {
        "id": "FMyRFze67-RF"
      },
      "execution_count": null,
      "outputs": []
    },
    {
      "cell_type": "code",
      "source": [],
      "metadata": {
        "id": "hY2EEfTsHGog"
      },
      "execution_count": null,
      "outputs": []
    }
  ]
}