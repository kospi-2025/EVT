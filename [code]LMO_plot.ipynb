{
  "nbformat": 4,
  "nbformat_minor": 0,
  "metadata": {
    "colab": {
      "provenance": [],
      "authorship_tag": "ABX9TyORytXBaW4niUkdYJerky+Y",
      "include_colab_link": true
    },
    "kernelspec": {
      "name": "python3",
      "display_name": "Python 3"
    },
    "language_info": {
      "name": "python"
    }
  },
  "cells": [
    {
      "cell_type": "markdown",
      "metadata": {
        "id": "view-in-github",
        "colab_type": "text"
      },
      "source": [
        "<a href=\"https://colab.research.google.com/github/kospi-2025/EVT/blob/main/%5Bcode%5DLMO_plot.ipynb\" target=\"_parent\"><img src=\"https://colab.research.google.com/assets/colab-badge.svg\" alt=\"Open In Colab\"/></a>"
      ]
    },
    {
      "cell_type": "code",
      "source": [
        "import numpy as np\n",
        "import pandas as pd\n",
        "\n",
        "base_url = \"https://raw.githubusercontent.com/kospi-2025/EVT/main/\"\n",
        "\n",
        "df = pd.read_csv(base_url + \"source_data/\" + \"ticker_info.csv\")\n",
        "df['id'] = df['id'].astype(str).str.zfill(6)\n",
        "df['Yahoo_Ticker'] = df['id'] + \".KS\"\n",
        "\n",
        "ticker_to_name = dict(zip(df[\"Yahoo_Ticker\"], df[\"name\"]))\n",
        "ticker_to_sector = dict(zip(df[\"Yahoo_Ticker\"], df[\"sector\"]))\n",
        "\n",
        "logDD = pd.read_csv(base_url + \"[csv]logDD.csv\", index_col=0, parse_dates=True)"
      ],
      "metadata": {
        "id": "xAhMdQkTCWgD"
      },
      "execution_count": 1,
      "outputs": []
    },
    {
      "cell_type": "markdown",
      "source": [
        "# LMO"
      ],
      "metadata": {
        "id": "L4O27JojF60X"
      }
    },
    {
      "cell_type": "code",
      "source": [
        "!pip install -q lmoments3\n",
        "!pip install -q pyextremes"
      ],
      "metadata": {
        "id": "lZZq1YCHvPGY",
        "outputId": "e2b2b7bc-7282-44a8-f500-7d92c811c733",
        "colab": {
          "base_uri": "https://localhost:8080/"
        }
      },
      "execution_count": 2,
      "outputs": [
        {
          "output_type": "stream",
          "name": "stdout",
          "text": [
            "\u001b[2K     \u001b[90m━━━━━━━━━━━━━━━━━━━━━━━━━━━━━━━━━━━━━━━━\u001b[0m \u001b[32m46.5/46.5 kB\u001b[0m \u001b[31m1.6 MB/s\u001b[0m eta \u001b[36m0:00:00\u001b[0m\n",
            "\u001b[2K   \u001b[90m━━━━━━━━━━━━━━━━━━━━━━━━━━━━━━━━━━━━━━━━\u001b[0m \u001b[32m48.2/48.2 kB\u001b[0m \u001b[31m2.5 MB/s\u001b[0m eta \u001b[36m0:00:00\u001b[0m\n",
            "\u001b[2K   \u001b[90m━━━━━━━━━━━━━━━━━━━━━━━━━━━━━━━━━━━━━━━━\u001b[0m \u001b[32m57.6/57.6 kB\u001b[0m \u001b[31m1.6 MB/s\u001b[0m eta \u001b[36m0:00:00\u001b[0m\n",
            "\u001b[2K   \u001b[90m━━━━━━━━━━━━━━━━━━━━━━━━━━━━━━━━━━━━━━━━\u001b[0m \u001b[32m47.4/47.4 kB\u001b[0m \u001b[31m1.6 MB/s\u001b[0m eta \u001b[36m0:00:00\u001b[0m\n",
            "\u001b[?25h"
          ]
        }
      ]
    },
    {
      "cell_type": "code",
      "source": [
        "import numpy as np\n",
        "import matplotlib.pyplot as plt\n",
        "from matplotlib.backends.backend_pdf import PdfPages\n",
        "import lmoments3 as lm\n",
        "from pyextremes import get_extremes\n",
        "import tqdm\n",
        "\n",
        "# GPD 이론 곡선\n",
        "xi_vals = np.linspace(-0.5, 1.0, 500)\n",
        "tau3_theory = (1 - xi_vals) / (3 + xi_vals)\n",
        "tau4_theory = (1 - xi_vals) * (2 - xi_vals) / ((3 + xi_vals) * (4 + xi_vals))\n",
        "\n",
        "# 설정\n",
        "r_range = [1, 10]\n",
        "markers = ['o', 'x', '^', 'D', 'v', '*', 's', 'P']\n",
        "\n",
        "tickers = logDD.columns\n",
        "\n",
        "with PdfPages(\"[plot]hosking_diagrams_all.pdf\") as pdf:\n",
        "    for i in range(0, len(tickers), 6):\n",
        "        fig, axes = plt.subplots(2, 3, figsize=(15, 10))\n",
        "        axes = axes.flatten()\n",
        "\n",
        "        for j, ticker in enumerate(tickers[i:i+6]):\n",
        "            ax = axes[j]\n",
        "            series = logDD[ticker].dropna().sort_index()\n",
        "            u_range = np.linspace(series.quantile(0.51), series.quantile(0.99), 29)\n",
        "\n",
        "            # GPD 이론 곡선\n",
        "            ax.plot(tau3_theory, tau4_theory, 'k-', label='GPD Theory')\n",
        "\n",
        "            for idx, r in enumerate(r_range):\n",
        "                tau3_list = []\n",
        "                tau4_list = []\n",
        "\n",
        "                for u in u_range:\n",
        "                    excesses = get_extremes(series, method=\"POT\", threshold=u, r=f\"{r}d\")\n",
        "                    try:\n",
        "                        lmr = lm.lmom_ratios(excesses, nmom=4)\n",
        "                        tau3_list.append(lmr[2])\n",
        "                        tau4_list.append(lmr[3])\n",
        "                    except:\n",
        "                        continue\n",
        "\n",
        "                if tau3_list:\n",
        "                    ax.plot(tau3_list, tau4_list,\n",
        "                            marker=markers[idx % len(markers)],\n",
        "                            linestyle='-', label=f'r = {r}', alpha=0.8)\n",
        "                    ax.scatter(tau3_list[0], tau4_list[0],\n",
        "                               color='red', edgecolor='black', zorder=5)\n",
        "                    ax.annotate(\"s\", (tau3_list[0], tau4_list[0]),\n",
        "                                textcoords=\"offset points\", xytext=(5, 5),\n",
        "                                ha='left', fontsize=10)\n",
        "\n",
        "            title = ticker_to_name.get(ticker, ticker)\n",
        "            ax.set_title(f\"{title} ({ticker})\", fontsize=11)\n",
        "            ax.set_xlabel(r'$\\tau_3$')\n",
        "            ax.set_ylabel(r'$\\tau_4$')\n",
        "            ax.grid(True)\n",
        "            ax.legend(fontsize=8)\n",
        "\n",
        "        # 남은 subplot 제거\n",
        "        for k in range(j + 1, 6):\n",
        "            fig.delaxes(axes[k])\n",
        "\n",
        "        plt.tight_layout()\n",
        "        pdf.savefig(fig)\n",
        "        plt.close(fig)"
      ],
      "metadata": {
        "id": "FMyRFze67-RF"
      },
      "execution_count": 5,
      "outputs": []
    },
    {
      "cell_type": "code",
      "source": [],
      "metadata": {
        "id": "hY2EEfTsHGog"
      },
      "execution_count": null,
      "outputs": []
    }
  ]
}